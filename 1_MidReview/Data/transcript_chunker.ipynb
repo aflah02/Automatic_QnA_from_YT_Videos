{
 "cells": [
  {
   "cell_type": "code",
   "execution_count": 6,
   "metadata": {},
   "outputs": [],
   "source": [
    "import json\n",
    "import os"
   ]
  },
  {
   "cell_type": "code",
   "execution_count": 2,
   "metadata": {},
   "outputs": [],
   "source": [
    "def make_sentences_with_timestamps(ls_words):\n",
    "    ls_sentences = []\n",
    "    curr_sentence = []\n",
    "    sentence_time_stamps = []\n",
    "    curr_start_time = 0\n",
    "    for word in ls_words:\n",
    "        if word['text'][-1] in ['.', '?', '!'] and len(curr_sentence) > 2:\n",
    "            curr_sentence.append(word['text'])\n",
    "            ls_sentences.append(' '.join(curr_sentence))\n",
    "            curr_sentence = []\n",
    "            sentence_time_stamps.append((curr_start_time, word['end']))\n",
    "            curr_start_time = word['end']\n",
    "        else:\n",
    "            curr_sentence.append(word['text'])\n",
    "    if len(curr_sentence) > 0:\n",
    "        ls_sentences.append(' '.join(curr_sentence))\n",
    "        sentence_time_stamps.append((curr_start_time, ls_words[-1]['end']))\n",
    "    return ls_sentences, sentence_time_stamps"
   ]
  },
  {
   "cell_type": "code",
   "execution_count": 3,
   "metadata": {},
   "outputs": [],
   "source": [
    "def split_response_json(ls_words, chunk_num):\n",
    "    ls_sentences, sentence_time_stamps = make_sentences_with_timestamps(ls_words)\n",
    "    total_time = ls_words[-1]['end']\n",
    "    chunk_time = total_time / chunk_num\n",
    "    ls_paragraphs = []\n",
    "    curr_paragraph = []\n",
    "    paragraph_time_stamps = []\n",
    "    curr_start_time = 0\n",
    "    for i, sentence in enumerate(ls_sentences):\n",
    "        if sentence_time_stamps[i][1] - curr_start_time > chunk_time:\n",
    "            ls_paragraphs.append(' '.join(curr_paragraph))\n",
    "            curr_paragraph = []\n",
    "            paragraph_time_stamps.append((curr_start_time, sentence_time_stamps[i][1]))\n",
    "            curr_start_time = sentence_time_stamps[i][1]\n",
    "        else:\n",
    "            curr_paragraph.append(sentence)\n",
    "    if len(curr_paragraph) > 0:\n",
    "        ls_paragraphs.append(' '.join(curr_paragraph))\n",
    "        paragraph_time_stamps.append((curr_start_time, ls_words[-1]['end']))\n",
    "    return ls_paragraphs, paragraph_time_stamps"
   ]
  },
  {
   "cell_type": "code",
   "execution_count": 4,
   "metadata": {},
   "outputs": [],
   "source": [
    "def save_paragraphs(ls_paragraphs, paragraph_time_stamps, save_name):\n",
    "    result_dict = {}\n",
    "    for i in range(len(ls_paragraphs)):\n",
    "        result_dict[i] = {'text': ls_paragraphs[i], 'start_time': paragraph_time_stamps[i][0], 'end_time': paragraph_time_stamps[i][1]}\n",
    "    with open(f'Chunked_Transcripts/{save_name}', 'w') as f:\n",
    "        json.dump(result_dict, f)"
   ]
  },
  {
   "cell_type": "code",
   "execution_count": 9,
   "metadata": {},
   "outputs": [],
   "source": [
    "files = os.listdir('Transcripts')\n",
    "files_with_json = [file for file in files if 'json' in file]"
   ]
  },
  {
   "cell_type": "code",
   "execution_count": 11,
   "metadata": {},
   "outputs": [],
   "source": [
    "for file in files_with_json:\n",
    "    data = json.load(open(f'Transcripts/{file}'))\n",
    "    ls_paragraphs, paragraph_time_stamps = split_response_json(data['words'], 5)\n",
    "    save_paragraphs(ls_paragraphs, paragraph_time_stamps, file)"
   ]
  }
 ],
 "metadata": {
  "kernelspec": {
   "display_name": "Python 3",
   "language": "python",
   "name": "python3"
  },
  "language_info": {
   "codemirror_mode": {
    "name": "ipython",
    "version": 3
   },
   "file_extension": ".py",
   "mimetype": "text/x-python",
   "name": "python",
   "nbconvert_exporter": "python",
   "pygments_lexer": "ipython3",
   "version": "3.9.13"
  },
  "orig_nbformat": 4
 },
 "nbformat": 4,
 "nbformat_minor": 2
}
