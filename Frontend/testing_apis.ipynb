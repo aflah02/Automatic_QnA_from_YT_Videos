{
 "cells": [
  {
   "cell_type": "code",
   "execution_count": 1,
   "metadata": {},
   "outputs": [],
   "source": [
    "from config_keys import *\n",
    "from backend import *"
   ]
  },
  {
   "cell_type": "code",
   "execution_count": 2,
   "metadata": {},
   "outputs": [],
   "source": [
    "transcript = get_transcript(\"https://youtu.be/ylWORyToTo4\")\n",
    "chunks, time_stamps = parse_transcript_into_chunks(transcript, chunk_size=5)"
   ]
  },
  {
   "cell_type": "code",
   "execution_count": 3,
   "metadata": {},
   "outputs": [
    {
     "data": {
      "text/plain": [
       "\"Hi, I’m John Green, this is Crash Course World History,\\nand today we’re going to talk about China, which these days is discussed almost constantly on television\\nand in newspapers - wait, are they still a thing? So, we used to print information on thinly\\nsliced trees and then you would pay someone to take these thinly sliced trees and throw\\nthem onto your front lawn, and that’s how we received information. No one thought this\\nwas weird, by the way. [theme music] Right, but anyway, you hear a lot about how\\nChina is going to overtake the U.S. and bury us under a pile of inexpensive electronics,\\nbut I don’t want to address those fears today. Instead, I want to talk about how the\\nway you tell a story shapes the story. China was really the first modern state – by\\nwhich I mean it had a centralized government and a corps of bureaucrats who could execute\\nthe wishes of that government. And it lasted, in pretty much the same form, from 150 BCE until 1911\\nCE, which is technically known as a long-ass time. The Chinese were also among the first people\\nto write history. In fact, one of the Confucian Classics is called the Shujing, or Classic\\nof History. This is great for us, because we can now see the things that the Chinese\\nrecorded as they were happening, but it is also problematic because of the way the story\\nis told. So even Me From The Past with his five minutes\\nof World History knows that Chinese History is conveniently divided into periods called\\nDynasties. Mr. Green, I didn’t even say anything. That\\ndoesn’t seem very fair -- Shh! What makes a dynasty a dynasty is that\\nit’s ruled by a king, or as the Chinese know him, an emperor, who comes from a continuous\\nruling family. As long as that family produces emperors -- and they are always dudes -- No they aren't. First off, there were several\\nempress dowagers who wielded tremendous power throughout Chinese history, and there was\\none very important full-fledged empress, Empress Wu, who WU-led China for more than 20 years\\nand founded her own freaking dynasty! -and those emperors keep ruling, the dynasty\\ngets to be a dynasty. So the dynasty can end for two reasons: either\\nthey run out of dudes (which never happened thanks to the hard work of many, many concubines),\\nor the emperor's overthrown after a rebellion or a war. This is more or less what happened\\nto all the dynasties, which makes it easy for me to go over to camera two and describe them\\nin a single run-on sentence: Hi there – camera two. Leaving aside the Xia dynasty, which was sadly\\nfictional, the first Chinese dynasty was the Shang, who were overthrown by the Zhou, which\\ndisintegrated into political chaos called the Warring States period, in which states\\nwarred over periods - oh, no, wait, it was a period in which states warred - which ended\\nwhen the Qin emperor was able to extend his power over most of the heretofore warring\\nstates, but the Qin were replaced by the Han, which was the dynasty that really set the\\npattern for most of China’s history and lasted for almost 400 years after which China\\nfell again into political chaos – which \""
      ]
     },
     "execution_count": 3,
     "metadata": {},
     "output_type": "execute_result"
    }
   ],
   "source": [
    "chunks[0]"
   ]
  },
  {
   "cell_type": "code",
   "execution_count": 7,
   "metadata": {},
   "outputs": [
    {
     "data": {
      "text/plain": [
       "\"Hi, I’m John Green, this is Crash Course World History, and today we’re going to talk about China, which these days is discussed almost constantly on television and in newspapers. China was really the first modern state – by which I mean it had a centralized government and a corps of bureaucrats who could execute the wishes of that government. And it lasted, in pretty much the same form, from 150 BCE until 1911 CE. The Chinese were also among the first people to write history. In fact, one of the Confucian Classics is called the Shujing, or Classic of History. So even Me From The Past with his five minutes of World History knows that Chinese History is conveniently divided into periods called Dynasties. What makes a dynasty a dynasty is that it’s ruled by a king, or as the Chinese know him an emperor, who comes from a continuous ruling family. As long as that family produces emperors - and they are always dudes - and those emperors keep ruling, the dynasty gets to be a dynasty. So the dynasty can end for two reasons: either they run out of dudes (which never happened thanks to the hard work of many, many concubines), or the emperor's overthrown after a rebellion or a war. Leaving aside the Xia dynasty, which was sadly fictional, the first Chinese dynasty was the Shang, who were overthrown by the Zhou, which disintegrated into political chaos called the Warring States period, in which states warred over periods - which ended when the Qin emperor was able to extend his power over most of the heretofore warring states, but the Qin were replaced by the Han, which was the dynasty that really set the pattern for most of China’s history and lasted for almost 400 years after which China fell again into political chaos.\""
      ]
     },
     "execution_count": 7,
     "metadata": {},
     "output_type": "execute_result"
    }
   ],
   "source": [
    "resp = openai.ChatCompletion.create(\n",
    "    model=\"gpt-3.5-turbo\",\n",
    "    messages=[\n",
    "            {\"role\": \"system\", \"content\": \"You are a helpful assistant.\"},\n",
    "            {\"role\": \"user\", \"content\": \"\"\"Return a cleaned version of this piece of text with all the factual data preserved. Do not add new information. The text is a piece of youtube video transcript so ignore all noisy information which is irrelevant and only focus on the educational material. I will provide the paragraph so kindly await my response. Reply with 'Sure provide the piece of text' if you understood the task\"\"\"},\n",
    "            {\"role\": \"assistant\", \"content\": \"Sure provide the piece of text to generate questions from\"},\n",
    "            {\"role\": \"user\", \"content\": f\"Text: {chunks[0]}\"}\n",
    "        ]\n",
    "    )\n",
    "resp[\"choices\"][0][\"message\"][\"content\"]"
   ]
  },
  {
   "cell_type": "code",
   "execution_count": 5,
   "metadata": {},
   "outputs": [
    {
     "data": {
      "text/plain": [
       "\"Hi, I’m John Green, this is Crash Course World History,\\nand today we’re going to talk about China, which these days is discussed almost constantly on television\\nand in newspapers - wait, are they still a thing? So, we used to print information on thinly\\nsliced trees and then you would pay someone to take these thinly sliced trees and throw\\nthem onto your front lawn, and that’s how we received information. No one thought this\\nwas weird, by the way. [theme music] Right, but anyway, you hear a lot about how\\nChina is going to overtake the U.S. and bury us under a pile of inexpensive electronics,\\nbut I don’t want to address those fears today. Instead, I want to talk about how the\\nway you tell a story shapes the story. China was really the first modern state – by\\nwhich I mean it had a centralized government and a corps of bureaucrats who could execute\\nthe wishes of that government. And it lasted, in pretty much the same form, from 150 BCE until 1911\\nCE, which is technically known as a long-ass time. The Chinese were also among the first people\\nto write history. In fact, one of the Confucian Classics is called the Shujing, or Classic\\nof History. This is great for us, because we can now see the things that the Chinese\\nrecorded as they were happening, but it is also problematic because of the way the story\\nis told. So even Me From The Past with his five minutes\\nof World History knows that Chinese History is conveniently divided into periods called\\nDynasties. Mr. Green, I didn’t even say anything. That\\ndoesn’t seem very fair -- Shh! What makes a dynasty a dynasty is that\\nit’s ruled by a king, or as the Chinese know him, an emperor, who comes from a continuous\\nruling family. As long as that family produces emperors -- and they are always dudes -- No they aren't. First off, there were several\\nempress dowagers who wielded tremendous power throughout Chinese history, and there was\\none very important full-fledged empress, Empress Wu, who WU-led China for more than 20 years\\nand founded her own freaking dynasty! -and those emperors keep ruling, the dynasty\\ngets to be a dynasty. So the dynasty can end for two reasons: either\\nthey run out of dudes (which never happened thanks to the hard work of many, many concubines),\\nor the emperor's overthrown after a rebellion or a war. This is more or less what happened\\nto all the dynasties, which makes it easy for me to go over to camera two and describe them\\nin a single run-on sentence: Hi there – camera two. Leaving aside the Xia dynasty, which was sadly\\nfictional, the first Chinese dynasty was the Shang, who were overthrown by the Zhou, which\\ndisintegrated into political chaos called the Warring States period, in which states\\nwarred over periods - oh, no, wait, it was a period in which states warred - which ended\\nwhen the Qin emperor was able to extend his power over most of the heretofore warring\\nstates, but the Qin were replaced by the Han, which was the dynasty that really set the\\npattern for most of China’s history and lasted for almost 400 years after which China\\nfell again into political chaos – which \""
      ]
     },
     "execution_count": 5,
     "metadata": {},
     "output_type": "execute_result"
    }
   ],
   "source": [
    "chunks[0]"
   ]
  },
  {
   "cell_type": "code",
   "execution_count": 8,
   "metadata": {},
   "outputs": [
    {
     "name": "stdout",
     "output_type": "stream",
     "text": [
      "Hi, I’m John Green, this is Crash Course World History, and today we’re going to talk about China, which these days is discussed almost constantly on television and in newspapers\n",
      " China was really the first modern state – by which I mean it had a centralized government and a corps of bureaucrats who could execute the wishes of that government\n",
      " And it lasted, in pretty much the same form, from 150 BCE until 1911 CE\n",
      " The Chinese were also among the first people to write history\n",
      " In fact, one of the Confucian Classics is called the Shujing, or Classic of History\n",
      " So even Me From The Past with his five minutes of World History knows that Chinese History is conveniently divided into periods called Dynasties\n",
      " What makes a dynasty a dynasty is that it’s ruled by a king, or as the Chinese know him an emperor, who comes from a continuous ruling family\n",
      " As long as that family produces emperors - and they are always dudes - and those emperors keep ruling, the dynasty gets to be a dynasty\n",
      " So the dynasty can end for two reasons: either they run out of dudes (which never happened thanks to the hard work of many, many concubines), or the emperor's overthrown after a rebellion or a war\n",
      " Leaving aside the Xia dynasty, which was sadly fictional, the first Chinese dynasty was the Shang, who were overthrown by the Zhou, which disintegrated into political chaos called the Warring States period, in which states warred over periods - which ended when the Qin emperor was able to extend his power over most of the heretofore warring states, but the Qin were replaced by the Han, which was the dynasty that really set the pattern for most of China’s history and lasted for almost 400 years after which China fell again into political chaos\n",
      "\n"
     ]
    }
   ],
   "source": [
    "response = resp[\"choices\"][0][\"message\"][\"content\"]\n",
    "# print one sentence per line\n",
    "for sent in response.split('.'):\n",
    "    print(sent)"
   ]
  },
  {
   "cell_type": "code",
   "execution_count": null,
   "metadata": {},
   "outputs": [],
   "source": []
  }
 ],
 "metadata": {
  "kernelspec": {
   "display_name": "Python 3",
   "language": "python",
   "name": "python3"
  },
  "language_info": {
   "codemirror_mode": {
    "name": "ipython",
    "version": 3
   },
   "file_extension": ".py",
   "mimetype": "text/x-python",
   "name": "python",
   "nbconvert_exporter": "python",
   "pygments_lexer": "ipython3",
   "version": "3.9.13"
  },
  "orig_nbformat": 4
 },
 "nbformat": 4,
 "nbformat_minor": 2
}
