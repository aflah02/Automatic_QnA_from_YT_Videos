{
 "cells": [
  {
   "cell_type": "code",
   "execution_count": 1,
   "metadata": {},
   "outputs": [],
   "source": [
    "import json, os, cohere, time"
   ]
  },
  {
   "cell_type": "code",
   "execution_count": 2,
   "metadata": {},
   "outputs": [],
   "source": [
    "api_key = os.environ['API_KEY']"
   ]
  },
  {
   "cell_type": "code",
   "execution_count": 3,
   "metadata": {},
   "outputs": [],
   "source": [
    "co = cohere.Client(api_key)"
   ]
  },
  {
   "cell_type": "code",
   "execution_count": 5,
   "metadata": {},
   "outputs": [],
   "source": [
    "for filename in os.listdir(\"../Data/Chunked_Transcripts/\"):\n",
    "    json_data = json.loads(open(\"../Data/Chunked_Transcripts/\" + filename).read())\n",
    "    for i, chunk in enumerate(json_data):\n",
    "        transcript = json_data[chunk]['text']\n",
    "        prompt = f'''create 2 small question answer pairs using the given transcript: {transcript}'''\n",
    "        try:\n",
    "            response = co.generate(\n",
    "                prompt=prompt,\n",
    "                max_tokens = 150,\n",
    "                temperature = 0.9,\n",
    "                model = \"command-xlarge-nightly\"\n",
    "            )\n",
    "\n",
    "            qnas = response.generations[0].text\n",
    "            \n",
    "            with open(os.path.join(os.curdir, filename.strip(\"_json\")+\"_cohere_qna.txt\"), \"a+\") as f:\n",
    "                f.writelines(\"\\nChunk \" + str(i+1))\n",
    "                f.write(response.generations[0].text)\n",
    "                f.writelines(\"\\n-----------------------\")\n",
    "            f.close()\n",
    "\n",
    "            time.sleep(12)\n",
    "        except:\n",
    "            continue"
   ]
  },
  {
   "cell_type": "code",
   "execution_count": null,
   "metadata": {},
   "outputs": [],
   "source": []
  }
 ],
 "metadata": {
  "kernelspec": {
   "display_name": "venv",
   "language": "python",
   "name": "python3"
  },
  "language_info": {
   "codemirror_mode": {
    "name": "ipython",
    "version": 3
   },
   "file_extension": ".py",
   "mimetype": "text/x-python",
   "name": "python",
   "nbconvert_exporter": "python",
   "pygments_lexer": "ipython3",
   "version": "3.10.2"
  },
  "orig_nbformat": 4
 },
 "nbformat": 4,
 "nbformat_minor": 2
}
