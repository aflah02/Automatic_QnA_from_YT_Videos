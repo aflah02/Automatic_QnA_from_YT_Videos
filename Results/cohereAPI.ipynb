{
 "cells": [
  {
   "cell_type": "code",
   "execution_count": 6,
   "metadata": {},
   "outputs": [],
   "source": [
    "import json, os, cohere, time\n",
    "from config_keys import *"
   ]
  },
  {
   "cell_type": "code",
   "execution_count": 7,
   "metadata": {},
   "outputs": [],
   "source": [
    "api_key = cohere_key"
   ]
  },
  {
   "cell_type": "code",
   "execution_count": 8,
   "metadata": {},
   "outputs": [],
   "source": [
    "co = cohere.Client(api_key)"
   ]
  },
  {
   "cell_type": "code",
   "execution_count": 11,
   "metadata": {},
   "outputs": [
    {
     "name": "stdout",
     "output_type": "stream",
     "text": [
      "Asian_Responses_to_Imperialism_Crash_Course_World_History_213_json\n",
      "Decolonization_and_Nationalism_Triumphant_Crash_Course_World_History_40_json 0\n",
      "blocked input: please adjust your prompt and try again, as it may be a potential violation of our Usage Guidelines (https://docs.cohere.ai/usage-guidelines/).\n",
      "Decolonization_and_Nationalism_Triumphant_Crash_Course_World_History_40_json 1\n",
      "Decolonization_and_Nationalism_Triumphant_Crash_Course_World_History_40_json 2\n",
      "Decolonization_and_Nationalism_Triumphant_Crash_Course_World_History_40_json 3\n",
      "Decolonization_and_Nationalism_Triumphant_Crash_Course_World_History_40_json 4\n",
      "Indus_Valley_Civilization_Crash_Course_World_History_2_json\n",
      "The_Agricultural_Revolution_Crash_Course_World_History_1_json\n",
      "The_Mughal_Empire_and_Historical_Reputation_Crash_Course_World_History_217_json\n"
     ]
    }
   ],
   "source": [
    "for filename in os.listdir(\"../Data/Chunked_Transcripts/\"):\n",
    "    json_data = json.loads(open(\"../Data/Chunked_Transcripts/\" + filename).read())\n",
    "    if 'decolonization' not in filename.lower():\n",
    "        print(filename)\n",
    "        continue\n",
    "    open(os.path.join(os.curdir, filename.strip(\"_json\")+\"_cohere_qna.txt\"), \"w\").close()\n",
    "    for i, chunk in enumerate(json_data):\n",
    "        print(filename, i)\n",
    "        transcript = json_data[chunk]['text']\n",
    "        prompt = f'''Generate 5 questions on the following paragraph in the form \"Question\":, \"Answer\":. Question and Answer should be on different lines and be only sentences and not multiple choice questions. Strictly follow this template for replying and do not add any other information. The text is a piece of youtube video transcript so ignore all noisy information which is irrelevant and only focus on the educational material. Any information which seems to be irrelevant and only part of small talk MUST NOT be included in the Questions and Answer. The transcript is the following - {transcript}'''\n",
    "        try:\n",
    "            response = co.generate(\n",
    "                prompt=prompt,\n",
    "                max_tokens = 400,\n",
    "                temperature = 0.9,\n",
    "                model = \"command-xlarge-nightly\"\n",
    "            )\n",
    "\n",
    "            qnas = response.generations[0].text\n",
    "            # clear the file\n",
    "            \n",
    "            # print(filename)\n",
    "            with open(os.path.join(os.curdir, filename.strip(\"_json\")+\"_cohere_qna.txt\"), \"a+\") as f:\n",
    "                f.writelines(\"\\nChunk \" + str(i+1))\n",
    "                f.write(response.generations[0].text)\n",
    "                f.writelines(\"\\n-----------------------\")\n",
    "            f.close()\n",
    "            # break\n",
    "            time.sleep(12)\n",
    "        except Exception as e:\n",
    "            print(e)\n",
    "            with open(os.path.join(os.curdir, filename.strip(\"_json\")+\"_cohere_qna.txt\"), \"a+\") as f:\n",
    "                f.writelines(\"\\nChunk \" + str(i+1) + \"\\n\")\n",
    "                f.write(\"No Response\")\n",
    "                f.writelines(\"\\n-----------------------\")\n",
    "            continue"
   ]
  },
  {
   "cell_type": "code",
   "execution_count": null,
   "metadata": {},
   "outputs": [],
   "source": []
  },
  {
   "cell_type": "code",
   "execution_count": null,
   "metadata": {},
   "outputs": [],
   "source": []
  }
 ],
 "metadata": {
  "kernelspec": {
   "display_name": "venv",
   "language": "python",
   "name": "python3"
  },
  "language_info": {
   "codemirror_mode": {
    "name": "ipython",
    "version": 3
   },
   "file_extension": ".py",
   "mimetype": "text/x-python",
   "name": "python",
   "nbconvert_exporter": "python",
   "pygments_lexer": "ipython3",
   "version": "3.9.13"
  },
  "orig_nbformat": 4
 },
 "nbformat": 4,
 "nbformat_minor": 2
}
